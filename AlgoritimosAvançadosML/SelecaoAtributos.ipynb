{
 "cells": [
  {
   "cell_type": "code",
   "id": "initial_id",
   "metadata": {
    "collapsed": true,
    "ExecuteTime": {
     "end_time": "2025-05-28T17:23:36.268581Z",
     "start_time": "2025-05-28T17:23:36.260656Z"
    }
   },
   "source": [
    "import pandas as pd\n",
    "from sklearn.model_selection import train_test_split\n",
    "from sklearn.naive_bayes import GaussianNB\n",
    "from sklearn.metrics import accuracy_score\n",
    "from sklearn.feature_selection import chi2, SelectKBest"
   ],
   "outputs": [],
   "execution_count": 27
  },
  {
   "metadata": {
    "ExecuteTime": {
     "end_time": "2025-05-28T17:23:37.487415Z",
     "start_time": "2025-05-28T17:23:36.272584Z"
    }
   },
   "cell_type": "code",
   "source": [
    "anuncio = pd.read_csv(r'C:\\Users\\Jaum\\Desktop\\CursoIA\\4.Tópicos Avançados de Machine Learning\\ad.data', header=None)\n",
    "anuncio.shape"
   ],
   "id": "74c7ec86e11c0201",
   "outputs": [
    {
     "data": {
      "text/plain": [
       "(3279, 1559)"
      ]
     },
     "execution_count": 28,
     "metadata": {},
     "output_type": "execute_result"
    }
   ],
   "execution_count": 28
  },
  {
   "metadata": {
    "ExecuteTime": {
     "end_time": "2025-05-28T17:23:37.619070Z",
     "start_time": "2025-05-28T17:23:37.491418Z"
    }
   },
   "cell_type": "code",
   "source": [
    "X = anuncio.iloc[:, :-1].values\n",
    "y = anuncio.iloc[:, -1].values"
   ],
   "id": "12a2fb783c190095",
   "outputs": [],
   "execution_count": 29
  },
  {
   "metadata": {
    "ExecuteTime": {
     "end_time": "2025-05-28T17:23:37.747454Z",
     "start_time": "2025-05-28T17:23:37.622074Z"
    }
   },
   "cell_type": "code",
   "source": "X_treinamento, X_teste, y_treinamento, y_teste = train_test_split(X, y, test_size=0.3, random_state=0)",
   "id": "eb12e0f16cc60df9",
   "outputs": [],
   "execution_count": 30
  },
  {
   "metadata": {
    "ExecuteTime": {
     "end_time": "2025-05-28T17:23:37.936619Z",
     "start_time": "2025-05-28T17:23:37.751456Z"
    }
   },
   "cell_type": "code",
   "source": [
    "modelo1 = GaussianNB()\n",
    "modelo1.fit(X_treinamento, y_treinamento)\n",
    "previsoes1 = modelo1.predict(X_teste)\n",
    "accuracy_score(y_teste, previsoes1)"
   ],
   "id": "22eba8a6ddd2ffc1",
   "outputs": [
    {
     "data": {
      "text/plain": [
       "0.7764227642276422"
      ]
     },
     "execution_count": 31,
     "metadata": {},
     "output_type": "execute_result"
    }
   ],
   "execution_count": 31
  },
  {
   "metadata": {
    "ExecuteTime": {
     "end_time": "2025-05-28T17:23:38.018372Z",
     "start_time": "2025-05-28T17:23:37.938621Z"
    }
   },
   "cell_type": "code",
   "source": [
    "selecao = SelectKBest(chi2,k=7)\n",
    "X_novo = selecao.fit_transform(X,y)\n",
    "print(X_novo)\n",
    "print(X_novo.shape)\n",
    "print(selecao.get_support())"
   ],
   "id": "ca6c8ecabd0947c0",
   "outputs": [
    {
     "name": "stdout",
     "output_type": "stream",
     "text": [
      "[[125.     125.       1.     ...   1.       0.       1.    ]\n",
      " [ 57.     468.       8.2105 ...   1.       0.       0.    ]\n",
      " [ 33.     230.       6.9696 ...   0.       0.       0.    ]\n",
      " ...\n",
      " [ 23.     120.       5.2173 ...   0.       0.       0.    ]\n",
      " [  0.       0.       0.     ...   0.       0.       0.    ]\n",
      " [ 40.      40.       1.     ...   0.       0.       0.    ]]\n",
      "(3279, 7)\n",
      "[ True  True  True ... False False False]\n"
     ]
    }
   ],
   "execution_count": 32
  },
  {
   "metadata": {
    "ExecuteTime": {
     "end_time": "2025-05-28T17:23:38.036080Z",
     "start_time": "2025-05-28T17:23:38.020381Z"
    }
   },
   "cell_type": "code",
   "source": "X_treinamento, X_teste, y_treinamento, y_teste = train_test_split(X_novo, y, test_size=0.3, random_state=0)",
   "id": "d7f48c651153d068",
   "outputs": [],
   "execution_count": 33
  },
  {
   "metadata": {
    "ExecuteTime": {
     "end_time": "2025-05-28T17:23:38.067587Z",
     "start_time": "2025-05-28T17:23:38.039084Z"
    }
   },
   "cell_type": "code",
   "source": [
    "modelo2 = GaussianNB()\n",
    "modelo2.fit(X_treinamento, y_treinamento)\n",
    "previsoes2 = modelo2.predict(X_teste)\n",
    "accuracy_score(y_teste, previsoes2)"
   ],
   "id": "3c8910489c276a23",
   "outputs": [
    {
     "data": {
      "text/plain": [
       "0.9451219512195121"
      ]
     },
     "execution_count": 34,
     "metadata": {},
     "output_type": "execute_result"
    }
   ],
   "execution_count": 34
  }
 ],
 "metadata": {
  "kernelspec": {
   "display_name": "Python 3",
   "language": "python",
   "name": "python3"
  },
  "language_info": {
   "codemirror_mode": {
    "name": "ipython",
    "version": 2
   },
   "file_extension": ".py",
   "mimetype": "text/x-python",
   "name": "python",
   "nbconvert_exporter": "python",
   "pygments_lexer": "ipython2",
   "version": "2.7.6"
  }
 },
 "nbformat": 4,
 "nbformat_minor": 5
}
