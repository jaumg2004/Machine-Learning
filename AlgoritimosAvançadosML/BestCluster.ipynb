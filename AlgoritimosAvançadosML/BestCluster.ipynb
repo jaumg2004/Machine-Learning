{
 "cells": [
  {
   "cell_type": "code",
   "id": "initial_id",
   "metadata": {
    "collapsed": true,
    "ExecuteTime": {
     "end_time": "2025-06-09T15:42:36.860210Z",
     "start_time": "2025-06-09T15:42:22.515526Z"
    }
   },
   "source": [
    "import numpy as np\n",
    "import pandas as pd\n",
    "from sklearn import datasets\n",
    "from sklearn.preprocessing import StandardScaler\n",
    "from sklearn.cluster import KMeans, AgglomerativeClustering, DBSCAN\n",
    "from sklearn.metrics import silhouette_score"
   ],
   "outputs": [],
   "execution_count": 1
  },
  {
   "metadata": {
    "ExecuteTime": {
     "end_time": "2025-06-09T15:59:15.624027Z",
     "start_time": "2025-06-09T15:59:15.609690Z"
    }
   },
   "cell_type": "code",
   "source": [
    "def compare_algorithms(X, max_cluster):\n",
    "    results = []\n",
    "    cluster_range = range(2, max_cluster + 1)\n",
    "    \n",
    "    #KMeans\n",
    "    for n_clusters in cluster_range:\n",
    "        kmeans = KMeans(n_clusters=n_clusters, random_state=0, n_init='auto')\n",
    "        cluster = kmeans.fit_predict(X)\n",
    "        silhouette_avg = silhouette_score(X, cluster)\n",
    "        results.append(('KMeans', n_clusters, silhouette_avg))\n",
    "\n",
    "    #Agglomerativo\n",
    "    for n_clusters in cluster_range:\n",
    "        agglo = AgglomerativeClustering(n_clusters=n_clusters)\n",
    "        cluster = agglo.fit_predict(X)\n",
    "        silhouette_avg = silhouette_score(X, cluster)\n",
    "        results.append(('agglomerative', n_clusters, silhouette_avg))\n",
    "        \n",
    "    #dbscan\n",
    "    eps_values = np.arange(0.1, 0.9, 0.1)\n",
    "    for eps in eps_values:\n",
    "        dbscan = DBSCAN(eps=eps, min_samples=5)\n",
    "        cluster = dbscan.fit_predict(X)\n",
    "        if len(set(cluster)) > 1:\n",
    "            silhouette_avg = silhouette_score(X, cluster)\n",
    "            results.append(('DBSCAN', eps, silhouette_avg))\n",
    "    \n",
    "    return results       "
   ],
   "id": "a4b34a092c1f9685",
   "outputs": [],
   "execution_count": 2
  },
  {
   "metadata": {
    "ExecuteTime": {
     "end_time": "2025-06-09T16:01:28.530981Z",
     "start_time": "2025-06-09T16:01:26.868156Z"
    }
   },
   "cell_type": "code",
   "source": [
    "iris = datasets.load_iris()\n",
    "scaler = StandardScaler()\n",
    "scaled_data = scaler.fit_transform(iris.data)\n",
    "results = compare_algorithms(scaled_data, 10)\n",
    "results"
   ],
   "id": "254b8664b5b8be52",
   "outputs": [
    {
     "data": {
      "text/plain": [
       "[('KMeans', 2, np.float64(0.5817500491982808)),\n",
       " ('KMeans', 3, np.float64(0.45994823920518635)),\n",
       " ('KMeans', 4, np.float64(0.38694104154427816)),\n",
       " ('KMeans', 5, np.float64(0.3455109959980947)),\n",
       " ('KMeans', 6, np.float64(0.3437191888640958)),\n",
       " ('KMeans', 7, np.float64(0.32923622098413463)),\n",
       " ('KMeans', 8, np.float64(0.3351935187631491)),\n",
       " ('KMeans', 9, np.float64(0.3524877506768797)),\n",
       " ('KMeans', 10, np.float64(0.34860741568769416)),\n",
       " ('agglomerative', 2, np.float64(0.5770346019475989)),\n",
       " ('agglomerative', 3, np.float64(0.4466890410285909)),\n",
       " ('agglomerative', 4, np.float64(0.4006363159855973)),\n",
       " ('agglomerative', 5, np.float64(0.33058726295230545)),\n",
       " ('agglomerative', 6, np.float64(0.3148548010051283)),\n",
       " ('agglomerative', 7, np.float64(0.31696983029912795)),\n",
       " ('agglomerative', 8, np.float64(0.31094652900725794)),\n",
       " ('agglomerative', 9, np.float64(0.31143422475471655)),\n",
       " ('agglomerative', 10, np.float64(0.3161120375980681)),\n",
       " ('DBSCAN', np.float64(0.30000000000000004), np.float64(-0.19419476862850826)),\n",
       " ('DBSCAN', np.float64(0.4), np.float64(0.027670001694674724)),\n",
       " ('DBSCAN', np.float64(0.5), np.float64(0.3565164814270073)),\n",
       " ('DBSCAN', np.float64(0.6), np.float64(0.4027617471797909)),\n",
       " ('DBSCAN', np.float64(0.7000000000000001), np.float64(0.523400848673573)),\n",
       " ('DBSCAN', np.float64(0.8), np.float64(0.5216965052515835))]"
      ]
     },
     "execution_count": 3,
     "metadata": {},
     "output_type": "execute_result"
    }
   ],
   "execution_count": 3
  },
  {
   "metadata": {
    "ExecuteTime": {
     "end_time": "2025-06-09T16:03:39.785301Z",
     "start_time": "2025-06-09T16:03:39.689794Z"
    }
   },
   "cell_type": "code",
   "source": [
    "df = pd.DataFrame(results, columns=['Agrupador', 'Clusters', 'Score'])\n",
    "df"
   ],
   "id": "c54591823ff9d89e",
   "outputs": [
    {
     "data": {
      "text/plain": [
       "        Agrupador  Clusters     Score\n",
       "0          KMeans       2.0  0.581750\n",
       "1          KMeans       3.0  0.459948\n",
       "2          KMeans       4.0  0.386941\n",
       "3          KMeans       5.0  0.345511\n",
       "4          KMeans       6.0  0.343719\n",
       "5          KMeans       7.0  0.329236\n",
       "6          KMeans       8.0  0.335194\n",
       "7          KMeans       9.0  0.352488\n",
       "8          KMeans      10.0  0.348607\n",
       "9   agglomerative       2.0  0.577035\n",
       "10  agglomerative       3.0  0.446689\n",
       "11  agglomerative       4.0  0.400636\n",
       "12  agglomerative       5.0  0.330587\n",
       "13  agglomerative       6.0  0.314855\n",
       "14  agglomerative       7.0  0.316970\n",
       "15  agglomerative       8.0  0.310947\n",
       "16  agglomerative       9.0  0.311434\n",
       "17  agglomerative      10.0  0.316112\n",
       "18         DBSCAN       0.3 -0.194195\n",
       "19         DBSCAN       0.4  0.027670\n",
       "20         DBSCAN       0.5  0.356516\n",
       "21         DBSCAN       0.6  0.402762\n",
       "22         DBSCAN       0.7  0.523401\n",
       "23         DBSCAN       0.8  0.521697"
      ],
      "text/html": [
       "<div>\n",
       "<style scoped>\n",
       "    .dataframe tbody tr th:only-of-type {\n",
       "        vertical-align: middle;\n",
       "    }\n",
       "\n",
       "    .dataframe tbody tr th {\n",
       "        vertical-align: top;\n",
       "    }\n",
       "\n",
       "    .dataframe thead th {\n",
       "        text-align: right;\n",
       "    }\n",
       "</style>\n",
       "<table border=\"1\" class=\"dataframe\">\n",
       "  <thead>\n",
       "    <tr style=\"text-align: right;\">\n",
       "      <th></th>\n",
       "      <th>Agrupador</th>\n",
       "      <th>Clusters</th>\n",
       "      <th>Score</th>\n",
       "    </tr>\n",
       "  </thead>\n",
       "  <tbody>\n",
       "    <tr>\n",
       "      <th>0</th>\n",
       "      <td>KMeans</td>\n",
       "      <td>2.0</td>\n",
       "      <td>0.581750</td>\n",
       "    </tr>\n",
       "    <tr>\n",
       "      <th>1</th>\n",
       "      <td>KMeans</td>\n",
       "      <td>3.0</td>\n",
       "      <td>0.459948</td>\n",
       "    </tr>\n",
       "    <tr>\n",
       "      <th>2</th>\n",
       "      <td>KMeans</td>\n",
       "      <td>4.0</td>\n",
       "      <td>0.386941</td>\n",
       "    </tr>\n",
       "    <tr>\n",
       "      <th>3</th>\n",
       "      <td>KMeans</td>\n",
       "      <td>5.0</td>\n",
       "      <td>0.345511</td>\n",
       "    </tr>\n",
       "    <tr>\n",
       "      <th>4</th>\n",
       "      <td>KMeans</td>\n",
       "      <td>6.0</td>\n",
       "      <td>0.343719</td>\n",
       "    </tr>\n",
       "    <tr>\n",
       "      <th>5</th>\n",
       "      <td>KMeans</td>\n",
       "      <td>7.0</td>\n",
       "      <td>0.329236</td>\n",
       "    </tr>\n",
       "    <tr>\n",
       "      <th>6</th>\n",
       "      <td>KMeans</td>\n",
       "      <td>8.0</td>\n",
       "      <td>0.335194</td>\n",
       "    </tr>\n",
       "    <tr>\n",
       "      <th>7</th>\n",
       "      <td>KMeans</td>\n",
       "      <td>9.0</td>\n",
       "      <td>0.352488</td>\n",
       "    </tr>\n",
       "    <tr>\n",
       "      <th>8</th>\n",
       "      <td>KMeans</td>\n",
       "      <td>10.0</td>\n",
       "      <td>0.348607</td>\n",
       "    </tr>\n",
       "    <tr>\n",
       "      <th>9</th>\n",
       "      <td>agglomerative</td>\n",
       "      <td>2.0</td>\n",
       "      <td>0.577035</td>\n",
       "    </tr>\n",
       "    <tr>\n",
       "      <th>10</th>\n",
       "      <td>agglomerative</td>\n",
       "      <td>3.0</td>\n",
       "      <td>0.446689</td>\n",
       "    </tr>\n",
       "    <tr>\n",
       "      <th>11</th>\n",
       "      <td>agglomerative</td>\n",
       "      <td>4.0</td>\n",
       "      <td>0.400636</td>\n",
       "    </tr>\n",
       "    <tr>\n",
       "      <th>12</th>\n",
       "      <td>agglomerative</td>\n",
       "      <td>5.0</td>\n",
       "      <td>0.330587</td>\n",
       "    </tr>\n",
       "    <tr>\n",
       "      <th>13</th>\n",
       "      <td>agglomerative</td>\n",
       "      <td>6.0</td>\n",
       "      <td>0.314855</td>\n",
       "    </tr>\n",
       "    <tr>\n",
       "      <th>14</th>\n",
       "      <td>agglomerative</td>\n",
       "      <td>7.0</td>\n",
       "      <td>0.316970</td>\n",
       "    </tr>\n",
       "    <tr>\n",
       "      <th>15</th>\n",
       "      <td>agglomerative</td>\n",
       "      <td>8.0</td>\n",
       "      <td>0.310947</td>\n",
       "    </tr>\n",
       "    <tr>\n",
       "      <th>16</th>\n",
       "      <td>agglomerative</td>\n",
       "      <td>9.0</td>\n",
       "      <td>0.311434</td>\n",
       "    </tr>\n",
       "    <tr>\n",
       "      <th>17</th>\n",
       "      <td>agglomerative</td>\n",
       "      <td>10.0</td>\n",
       "      <td>0.316112</td>\n",
       "    </tr>\n",
       "    <tr>\n",
       "      <th>18</th>\n",
       "      <td>DBSCAN</td>\n",
       "      <td>0.3</td>\n",
       "      <td>-0.194195</td>\n",
       "    </tr>\n",
       "    <tr>\n",
       "      <th>19</th>\n",
       "      <td>DBSCAN</td>\n",
       "      <td>0.4</td>\n",
       "      <td>0.027670</td>\n",
       "    </tr>\n",
       "    <tr>\n",
       "      <th>20</th>\n",
       "      <td>DBSCAN</td>\n",
       "      <td>0.5</td>\n",
       "      <td>0.356516</td>\n",
       "    </tr>\n",
       "    <tr>\n",
       "      <th>21</th>\n",
       "      <td>DBSCAN</td>\n",
       "      <td>0.6</td>\n",
       "      <td>0.402762</td>\n",
       "    </tr>\n",
       "    <tr>\n",
       "      <th>22</th>\n",
       "      <td>DBSCAN</td>\n",
       "      <td>0.7</td>\n",
       "      <td>0.523401</td>\n",
       "    </tr>\n",
       "    <tr>\n",
       "      <th>23</th>\n",
       "      <td>DBSCAN</td>\n",
       "      <td>0.8</td>\n",
       "      <td>0.521697</td>\n",
       "    </tr>\n",
       "  </tbody>\n",
       "</table>\n",
       "</div>"
      ]
     },
     "execution_count": 4,
     "metadata": {},
     "output_type": "execute_result"
    }
   ],
   "execution_count": 4
  },
  {
   "metadata": {
    "ExecuteTime": {
     "end_time": "2025-06-09T16:06:42.874744Z",
     "start_time": "2025-06-09T16:06:42.865141Z"
    }
   },
   "cell_type": "code",
   "source": [
    "max_score_index = df['Score'].idxmax()\n",
    "df.loc[max_score_index]"
   ],
   "id": "d10f5d42529bfb57",
   "outputs": [
    {
     "data": {
      "text/plain": [
       "Agrupador     KMeans\n",
       "Clusters         2.0\n",
       "Score        0.58175\n",
       "Name: 0, dtype: object"
      ]
     },
     "execution_count": 6,
     "metadata": {},
     "output_type": "execute_result"
    }
   ],
   "execution_count": 6
  },
  {
   "metadata": {},
   "cell_type": "code",
   "outputs": [],
   "execution_count": null,
   "source": "",
   "id": "a7fa3eb03394f139"
  }
 ],
 "metadata": {
  "kernelspec": {
   "display_name": "Python 3",
   "language": "python",
   "name": "python3"
  },
  "language_info": {
   "codemirror_mode": {
    "name": "ipython",
    "version": 2
   },
   "file_extension": ".py",
   "mimetype": "text/x-python",
   "name": "python",
   "nbconvert_exporter": "python",
   "pygments_lexer": "ipython2",
   "version": "2.7.6"
  }
 },
 "nbformat": 4,
 "nbformat_minor": 5
}
