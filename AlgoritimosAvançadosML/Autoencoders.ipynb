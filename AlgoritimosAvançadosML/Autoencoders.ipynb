{
 "cells": [
  {
   "cell_type": "code",
   "id": "initial_id",
   "metadata": {
    "collapsed": true,
    "ExecuteTime": {
     "end_time": "2025-05-12T17:36:59.848927Z",
     "start_time": "2025-05-12T17:36:59.841132Z"
    }
   },
   "source": [
    "import numpy as np\n",
    "from matplotlib import pyplot as plt\n",
    "from tensorflow.keras.datasets import mnist\n",
    "from tensorflow.keras.models import Sequential, Model\n",
    "from tensorflow.keras.layers import Dense, Input"
   ],
   "outputs": [],
   "execution_count": 26
  },
  {
   "metadata": {
    "ExecuteTime": {
     "end_time": "2025-05-12T17:37:00.346004Z",
     "start_time": "2025-05-12T17:36:59.860925Z"
    }
   },
   "cell_type": "code",
   "source": "(X_train, _), (X_test, _) = mnist.load_data()",
   "id": "d24dbdf46461c9d5",
   "outputs": [],
   "execution_count": 27
  },
  {
   "metadata": {
    "ExecuteTime": {
     "end_time": "2025-05-12T17:37:00.363431Z",
     "start_time": "2025-05-12T17:37:00.349008Z"
    }
   },
   "cell_type": "code",
   "source": "X_train[4].shape",
   "id": "904e1e0ccc22870b",
   "outputs": [
    {
     "data": {
      "text/plain": [
       "(28, 28)"
      ]
     },
     "execution_count": 28,
     "metadata": {},
     "output_type": "execute_result"
    }
   ],
   "execution_count": 28
  },
  {
   "metadata": {
    "ExecuteTime": {
     "end_time": "2025-05-12T17:37:00.393528Z",
     "start_time": "2025-05-12T17:37:00.367435Z"
    }
   },
   "cell_type": "code",
   "source": "X_train[4]",
   "id": "fe059f459251eea8",
   "outputs": [
    {
     "data": {
      "text/plain": [
       "array([[  0,   0,   0,   0,   0,   0,   0,   0,   0,   0,   0,   0,   0,\n",
       "          0,   0,   0,   0,   0,   0,   0,   0,   0,   0,   0,   0,   0,\n",
       "          0,   0],\n",
       "       [  0,   0,   0,   0,   0,   0,   0,   0,   0,   0,   0,   0,   0,\n",
       "          0,   0,   0,   0,   0,   0,   0,   0,   0,   0,   0,   0,   0,\n",
       "          0,   0],\n",
       "       [  0,   0,   0,   0,   0,   0,   0,   0,   0,   0,   0,   0,   0,\n",
       "          0,   0,   0,   0,   0,   0,   0,   0,   0,   0,   0,   0,   0,\n",
       "          0,   0],\n",
       "       [  0,   0,   0,   0,   0,   0,   0,   0,   0,   0,   0,   0,   0,\n",
       "          0,   0,   0,   0,   0,   0,   0,   0,   0,   0,   0,   0,   0,\n",
       "          0,   0],\n",
       "       [  0,   0,   0,   0,   0,   0,   0,   0,   0,   0,   0,   0,   0,\n",
       "          0,   0,   0,   0,   0,   0,   0,   0,   0,   0,   0,   0,   0,\n",
       "          0,   0],\n",
       "       [  0,   0,   0,   0,   0,   0,   0,   0,   0,   0,   0,   0,   0,\n",
       "          0,   0,   0,   0,   0,   0,   0,   0,   0,   0,   0,   0,   0,\n",
       "          0,   0],\n",
       "       [  0,   0,   0,   0,   0,   0,   0,   0,   0,   0,   0,   0,   0,\n",
       "          0,   0,   0,   0,   0,   0,   0,   0,   0,   0,   0,   0,   0,\n",
       "          0,   0],\n",
       "       [  0,   0,   0,   0,   0,   0,   0,   0,   0,   0,   0,   0,  55,\n",
       "        148, 210, 253, 253, 113,  87, 148,  55,   0,   0,   0,   0,   0,\n",
       "          0,   0],\n",
       "       [  0,   0,   0,   0,   0,   0,   0,   0,   0,   0,   0,  87, 232,\n",
       "        252, 253, 189, 210, 252, 252, 253, 168,   0,   0,   0,   0,   0,\n",
       "          0,   0],\n",
       "       [  0,   0,   0,   0,   0,   0,   0,   0,   0,   4,  57, 242, 252,\n",
       "        190,  65,   5,  12, 182, 252, 253, 116,   0,   0,   0,   0,   0,\n",
       "          0,   0],\n",
       "       [  0,   0,   0,   0,   0,   0,   0,   0,   0,  96, 252, 252, 183,\n",
       "         14,   0,   0,  92, 252, 252, 225,  21,   0,   0,   0,   0,   0,\n",
       "          0,   0],\n",
       "       [  0,   0,   0,   0,   0,   0,   0,   0, 132, 253, 252, 146,  14,\n",
       "          0,   0,   0, 215, 252, 252,  79,   0,   0,   0,   0,   0,   0,\n",
       "          0,   0],\n",
       "       [  0,   0,   0,   0,   0,   0,   0, 126, 253, 247, 176,   9,   0,\n",
       "          0,   8,  78, 245, 253, 129,   0,   0,   0,   0,   0,   0,   0,\n",
       "          0,   0],\n",
       "       [  0,   0,   0,   0,   0,   0,  16, 232, 252, 176,   0,   0,   0,\n",
       "         36, 201, 252, 252, 169,  11,   0,   0,   0,   0,   0,   0,   0,\n",
       "          0,   0],\n",
       "       [  0,   0,   0,   0,   0,   0,  22, 252, 252,  30,  22, 119, 197,\n",
       "        241, 253, 252, 251,  77,   0,   0,   0,   0,   0,   0,   0,   0,\n",
       "          0,   0],\n",
       "       [  0,   0,   0,   0,   0,   0,  16, 231, 252, 253, 252, 252, 252,\n",
       "        226, 227, 252, 231,   0,   0,   0,   0,   0,   0,   0,   0,   0,\n",
       "          0,   0],\n",
       "       [  0,   0,   0,   0,   0,   0,   0,  55, 235, 253, 217, 138,  42,\n",
       "         24, 192, 252, 143,   0,   0,   0,   0,   0,   0,   0,   0,   0,\n",
       "          0,   0],\n",
       "       [  0,   0,   0,   0,   0,   0,   0,   0,   0,   0,   0,   0,   0,\n",
       "         62, 255, 253, 109,   0,   0,   0,   0,   0,   0,   0,   0,   0,\n",
       "          0,   0],\n",
       "       [  0,   0,   0,   0,   0,   0,   0,   0,   0,   0,   0,   0,   0,\n",
       "         71, 253, 252,  21,   0,   0,   0,   0,   0,   0,   0,   0,   0,\n",
       "          0,   0],\n",
       "       [  0,   0,   0,   0,   0,   0,   0,   0,   0,   0,   0,   0,   0,\n",
       "          0, 253, 252,  21,   0,   0,   0,   0,   0,   0,   0,   0,   0,\n",
       "          0,   0],\n",
       "       [  0,   0,   0,   0,   0,   0,   0,   0,   0,   0,   0,   0,   0,\n",
       "         71, 253, 252,  21,   0,   0,   0,   0,   0,   0,   0,   0,   0,\n",
       "          0,   0],\n",
       "       [  0,   0,   0,   0,   0,   0,   0,   0,   0,   0,   0,   0,   0,\n",
       "        106, 253, 252,  21,   0,   0,   0,   0,   0,   0,   0,   0,   0,\n",
       "          0,   0],\n",
       "       [  0,   0,   0,   0,   0,   0,   0,   0,   0,   0,   0,   0,   0,\n",
       "         45, 255, 253,  21,   0,   0,   0,   0,   0,   0,   0,   0,   0,\n",
       "          0,   0],\n",
       "       [  0,   0,   0,   0,   0,   0,   0,   0,   0,   0,   0,   0,   0,\n",
       "          0, 218, 252,  56,   0,   0,   0,   0,   0,   0,   0,   0,   0,\n",
       "          0,   0],\n",
       "       [  0,   0,   0,   0,   0,   0,   0,   0,   0,   0,   0,   0,   0,\n",
       "          0,  96, 252, 189,  42,   0,   0,   0,   0,   0,   0,   0,   0,\n",
       "          0,   0],\n",
       "       [  0,   0,   0,   0,   0,   0,   0,   0,   0,   0,   0,   0,   0,\n",
       "          0,  14, 184, 252, 170,  11,   0,   0,   0,   0,   0,   0,   0,\n",
       "          0,   0],\n",
       "       [  0,   0,   0,   0,   0,   0,   0,   0,   0,   0,   0,   0,   0,\n",
       "          0,   0,  14, 147, 252,  42,   0,   0,   0,   0,   0,   0,   0,\n",
       "          0,   0],\n",
       "       [  0,   0,   0,   0,   0,   0,   0,   0,   0,   0,   0,   0,   0,\n",
       "          0,   0,   0,   0,   0,   0,   0,   0,   0,   0,   0,   0,   0,\n",
       "          0,   0]], dtype=uint8)"
      ]
     },
     "execution_count": 29,
     "metadata": {},
     "output_type": "execute_result"
    }
   ],
   "execution_count": 29
  },
  {
   "metadata": {
    "ExecuteTime": {
     "end_time": "2025-05-12T17:37:00.615561Z",
     "start_time": "2025-05-12T17:37:00.400530Z"
    }
   },
   "cell_type": "code",
   "source": [
    "plt.imshow(X_train[2], cmap='gray')\n",
    "plt.show()"
   ],
   "id": "4e53174404400e44",
   "outputs": [
    {
     "data": {
      "text/plain": [
       "<Figure size 640x480 with 1 Axes>"
      ],
      "image/png": "[encoded data removed]"
     },
     "metadata": {},
     "output_type": "display_data"
    }
   ],
   "execution_count": 30
  },
  {
   "metadata": {
    "ExecuteTime": {
     "end_time": "2025-05-12T17:37:00.912732Z",
     "start_time": "2025-05-12T17:37:00.618565Z"
    }
   },
   "cell_type": "code",
   "source": [
    "X_train = X_train.astype('float32')/255.0\n",
    "X_test = X_test.astype('float32')/255.0"
   ],
   "id": "7453124de3132427",
   "outputs": [],
   "execution_count": 31
  },
  {
   "metadata": {
    "ExecuteTime": {
     "end_time": "2025-05-12T17:37:00.923793Z",
     "start_time": "2025-05-12T17:37:00.915736Z"
    }
   },
   "cell_type": "code",
   "source": [
    "X_train = X_train.reshape(len(X_train), np.prod(X_train.shape[1:]))\n",
    "X_test = X_test.reshape(len(X_test), np.prod(X_test.shape[1:]))"
   ],
   "id": "b8d4feb28bd76970",
   "outputs": [],
   "execution_count": 32
  },
  {
   "metadata": {
    "ExecuteTime": {
     "end_time": "2025-05-12T17:37:05.723006Z",
     "start_time": "2025-05-12T17:37:00.929798Z"
    }
   },
   "cell_type": "code",
   "source": [
    "x_train_noise = X_train + 0.5 * np.random.normal(loc=0.0, scale=1.0, size=X_train.shape)\n",
    "x_test_noise = X_test + 0.5 * np.random.normal(loc=0.0, scale=1.0, size=X_test.shape)"
   ],
   "id": "89aa390df0fe29d",
   "outputs": [],
   "execution_count": 33
  },
  {
   "metadata": {
    "ExecuteTime": {
     "end_time": "2025-05-12T17:37:05.973549Z",
     "start_time": "2025-05-12T17:37:05.726012Z"
    }
   },
   "cell_type": "code",
   "source": [
    "x_train_noise = np.clip(x_train_noise, 0.0, 1.0)\n",
    "x_test_noise = np.clip(x_test_noise, 0.0, 1.0)"
   ],
   "id": "cdc0201839172abc",
   "outputs": [],
   "execution_count": 34
  },
  {
   "metadata": {
    "ExecuteTime": {
     "end_time": "2025-05-12T17:53:11.810597Z",
     "start_time": "2025-05-12T17:46:01.950786Z"
    }
   },
   "cell_type": "code",
   "source": [
    "inputs = Input(shape=(784,))\n",
    "encoder = Dense(32, activation='relu')(inputs)\n",
    "decoder = Dense(784, activation='sigmoid')(encoder)\n",
    "autoencoder = Model(inputs, decoder)\n",
    "autoencoder.compile(optimizer='adam', loss='binary_crossentropy')\n",
    "autoencoder.fit(x_train_noise, X_train, epochs=100, batch_size=256, shuffle=True, validation_data=(x_test_noise, X_test))"
   ],
   "id": "ae7fe6d08995aaaf",
   "outputs": [
    {
     "name": "stdout",
     "output_type": "stream",
     "text": [
      "Epoch 1/100\n",
      "\u001B[1m235/235\u001B[0m \u001B[32m━━━━━━━━━━━━━━━━━━━━\u001B[0m\u001B[37m\u001B[0m \u001B[1m6s\u001B[0m 17ms/step - loss: 0.3651 - val_loss: 0.2215\n",
      "Epoch 2/100\n",
      "\u001B[1m235/235\u001B[0m \u001B[32m━━━━━━━━━━━━━━━━━━━━\u001B[0m\u001B[37m\u001B[0m \u001B[1m3s\u001B[0m 14ms/step - loss: 0.2076 - val_loss: 0.1772\n",
      "Epoch 3/100\n",
      "\u001B[1m235/235\u001B[0m \u001B[32m━━━━━━━━━━━━━━━━━━━━\u001B[0m\u001B[37m\u001B[0m \u001B[1m5s\u001B[0m 14ms/step - loss: 0.1737 - val_loss: 0.1609\n",
      "Epoch 4/100\n",
      "\u001B[1m235/235\u001B[0m \u001B[32m━━━━━━━━━━━━━━━━━━━━\u001B[0m\u001B[37m\u001B[0m \u001B[1m5s\u001B[0m 14ms/step - loss: 0.1590 - val_loss: 0.1488\n",
      "Epoch 5/100\n",
      "\u001B[1m235/235\u001B[0m \u001B[32m━━━━━━━━━━━━━━━━━━━━\u001B[0m\u001B[37m\u001B[0m \u001B[1m3s\u001B[0m 14ms/step - loss: 0.1478 - val_loss: 0.1410\n",
      "Epoch 6/100\n",
      "\u001B[1m235/235\u001B[0m \u001B[32m━━━━━━━━━━━━━━━━━━━━\u001B[0m\u001B[37m\u001B[0m \u001B[1m3s\u001B[0m 14ms/step - loss: 0.1408 - val_loss: 0.1356\n",
      "Epoch 7/100\n",
      "\u001B[1m235/235\u001B[0m \u001B[32m━━━━━━━━━━━━━━━━━━━━\u001B[0m\u001B[37m\u001B[0m \u001B[1m5s\u001B[0m 15ms/step - loss: 0.1355 - val_loss: 0.1319\n",
      "Epoch 8/100\n",
      "\u001B[1m235/235\u001B[0m \u001B[32m━━━━━━━━━━━━━━━━━━━━\u001B[0m\u001B[37m\u001B[0m \u001B[1m5s\u001B[0m 15ms/step - loss: 0.1322 - val_loss: 0.1293\n",
      "Epoch 9/100\n",
      "\u001B[1m235/235\u001B[0m \u001B[32m━━━━━━━━━━━━━━━━━━━━\u001B[0m\u001B[37m\u001B[0m \u001B[1m5s\u001B[0m 22ms/step - loss: 0.1301 - val_loss: 0.1279\n",
      "Epoch 10/100\n",
      "\u001B[1m235/235\u001B[0m \u001B[32m━━━━━━━━━━━━━━━━━━━━\u001B[0m\u001B[37m\u001B[0m \u001B[1m4s\u001B[0m 16ms/step - loss: 0.1281 - val_loss: 0.1268\n",
      "Epoch 11/100\n",
      "\u001B[1m235/235\u001B[0m \u001B[32m━━━━━━━━━━━━━━━━━━━━\u001B[0m\u001B[37m\u001B[0m \u001B[1m4s\u001B[0m 16ms/step - loss: 0.1274 - val_loss: 0.1262\n",
      "Epoch 12/100\n",
      "\u001B[1m235/235\u001B[0m \u001B[32m━━━━━━━━━━━━━━━━━━━━\u001B[0m\u001B[37m\u001B[0m \u001B[1m3s\u001B[0m 14ms/step - loss: 0.1269 - val_loss: 0.1259\n",
      "Epoch 13/100\n",
      "\u001B[1m235/235\u001B[0m \u001B[32m━━━━━━━━━━━━━━━━━━━━\u001B[0m\u001B[37m\u001B[0m \u001B[1m3s\u001B[0m 14ms/step - loss: 0.1269 - val_loss: 0.1255\n",
      "Epoch 14/100\n",
      "\u001B[1m235/235\u001B[0m \u001B[32m━━━━━━━━━━━━━━━━━━━━\u001B[0m\u001B[37m\u001B[0m \u001B[1m4s\u001B[0m 15ms/step - loss: 0.1259 - val_loss: 0.1253\n",
      "Epoch 15/100\n",
      "\u001B[1m235/235\u001B[0m \u001B[32m━━━━━━━━━━━━━━━━━━━━\u001B[0m\u001B[37m\u001B[0m \u001B[1m5s\u001B[0m 14ms/step - loss: 0.1258 - val_loss: 0.1251\n",
      "Epoch 16/100\n",
      "\u001B[1m235/235\u001B[0m \u001B[32m━━━━━━━━━━━━━━━━━━━━\u001B[0m\u001B[37m\u001B[0m \u001B[1m3s\u001B[0m 14ms/step - loss: 0.1259 - val_loss: 0.1250\n",
      "Epoch 17/100\n",
      "\u001B[1m235/235\u001B[0m \u001B[32m━━━━━━━━━━━━━━━━━━━━\u001B[0m\u001B[37m\u001B[0m \u001B[1m5s\u001B[0m 14ms/step - loss: 0.1255 - val_loss: 0.1248\n",
      "Epoch 18/100\n",
      "\u001B[1m235/235\u001B[0m \u001B[32m━━━━━━━━━━━━━━━━━━━━\u001B[0m\u001B[37m\u001B[0m \u001B[1m3s\u001B[0m 14ms/step - loss: 0.1253 - val_loss: 0.1246\n",
      "Epoch 19/100\n",
      "\u001B[1m235/235\u001B[0m \u001B[32m━━━━━━━━━━━━━━━━━━━━\u001B[0m\u001B[37m\u001B[0m \u001B[1m5s\u001B[0m 14ms/step - loss: 0.1254 - val_loss: 0.1245\n",
      "Epoch 20/100\n",
      "\u001B[1m235/235\u001B[0m \u001B[32m━━━━━━━━━━━━━━━━━━━━\u001B[0m\u001B[37m\u001B[0m \u001B[1m3s\u001B[0m 14ms/step - loss: 0.1250 - val_loss: 0.1244\n",
      "Epoch 21/100\n",
      "\u001B[1m235/235\u001B[0m \u001B[32m━━━━━━━━━━━━━━━━━━━━\u001B[0m\u001B[37m\u001B[0m \u001B[1m3s\u001B[0m 14ms/step - loss: 0.1252 - val_loss: 0.1244\n",
      "Epoch 22/100\n",
      "\u001B[1m235/235\u001B[0m \u001B[32m━━━━━━━━━━━━━━━━━━━━\u001B[0m\u001B[37m\u001B[0m \u001B[1m3s\u001B[0m 14ms/step - loss: 0.1250 - val_loss: 0.1243\n",
      "Epoch 23/100\n",
      "\u001B[1m235/235\u001B[0m \u001B[32m━━━━━━━━━━━━━━━━━━━━\u001B[0m\u001B[37m\u001B[0m \u001B[1m3s\u001B[0m 14ms/step - loss: 0.1247 - val_loss: 0.1241\n",
      "Epoch 24/100\n",
      "\u001B[1m235/235\u001B[0m \u001B[32m━━━━━━━━━━━━━━━━━━━━\u001B[0m\u001B[37m\u001B[0m \u001B[1m4s\u001B[0m 15ms/step - loss: 0.1248 - val_loss: 0.1240\n",
      "Epoch 25/100\n",
      "\u001B[1m235/235\u001B[0m \u001B[32m━━━━━━━━━━━━━━━━━━━━\u001B[0m\u001B[37m\u001B[0m \u001B[1m4s\u001B[0m 16ms/step - loss: 0.1246 - val_loss: 0.1240\n",
      "Epoch 26/100\n",
      "\u001B[1m235/235\u001B[0m \u001B[32m━━━━━━━━━━━━━━━━━━━━\u001B[0m\u001B[37m\u001B[0m \u001B[1m5s\u001B[0m 21ms/step - loss: 0.1244 - val_loss: 0.1238\n",
      "Epoch 27/100\n",
      "\u001B[1m235/235\u001B[0m \u001B[32m━━━━━━━━━━━━━━━━━━━━\u001B[0m\u001B[37m\u001B[0m \u001B[1m4s\u001B[0m 15ms/step - loss: 0.1245 - val_loss: 0.1238\n",
      "Epoch 28/100\n",
      "\u001B[1m235/235\u001B[0m \u001B[32m━━━━━━━━━━━━━━━━━━━━\u001B[0m\u001B[37m\u001B[0m \u001B[1m3s\u001B[0m 14ms/step - loss: 0.1241 - val_loss: 0.1237\n",
      "Epoch 29/100\n",
      "\u001B[1m235/235\u001B[0m \u001B[32m━━━━━━━━━━━━━━━━━━━━\u001B[0m\u001B[37m\u001B[0m \u001B[1m6s\u001B[0m 16ms/step - loss: 0.1241 - val_loss: 0.1236\n",
      "Epoch 30/100\n",
      "\u001B[1m235/235\u001B[0m \u001B[32m━━━━━━━━━━━━━━━━━━━━\u001B[0m\u001B[37m\u001B[0m \u001B[1m3s\u001B[0m 14ms/step - loss: 0.1241 - val_loss: 0.1235\n",
      "Epoch 31/100\n",
      "\u001B[1m235/235\u001B[0m \u001B[32m━━━━━━━━━━━━━━━━━━━━\u001B[0m\u001B[37m\u001B[0m \u001B[1m3s\u001B[0m 14ms/step - loss: 0.1241 - val_loss: 0.1234\n",
      "Epoch 32/100\n",
      "\u001B[1m235/235\u001B[0m \u001B[32m━━━━━━━━━━━━━━━━━━━━\u001B[0m\u001B[37m\u001B[0m \u001B[1m5s\u001B[0m 14ms/step - loss: 0.1239 - val_loss: 0.1233\n",
      "Epoch 33/100\n",
      "\u001B[1m235/235\u001B[0m \u001B[32m━━━━━━━━━━━━━━━━━━━━\u001B[0m\u001B[37m\u001B[0m \u001B[1m3s\u001B[0m 14ms/step - loss: 0.1239 - val_loss: 0.1234\n",
      "Epoch 34/100\n",
      "\u001B[1m235/235\u001B[0m \u001B[32m━━━━━━━━━━━━━━━━━━━━\u001B[0m\u001B[37m\u001B[0m \u001B[1m3s\u001B[0m 14ms/step - loss: 0.1237 - val_loss: 0.1232\n",
      "Epoch 35/100\n",
      "\u001B[1m235/235\u001B[0m \u001B[32m━━━━━━━━━━━━━━━━━━━━\u001B[0m\u001B[37m\u001B[0m \u001B[1m3s\u001B[0m 14ms/step - loss: 0.1239 - val_loss: 0.1230\n",
      "Epoch 36/100\n",
      "\u001B[1m235/235\u001B[0m \u001B[32m━━━━━━━━━━━━━━━━━━━━\u001B[0m\u001B[37m\u001B[0m \u001B[1m3s\u001B[0m 14ms/step - loss: 0.1235 - val_loss: 0.1230\n",
      "Epoch 37/100\n",
      "\u001B[1m235/235\u001B[0m \u001B[32m━━━━━━━━━━━━━━━━━━━━\u001B[0m\u001B[37m\u001B[0m \u001B[1m3s\u001B[0m 14ms/step - loss: 0.1236 - val_loss: 0.1229\n",
      "Epoch 38/100\n",
      "\u001B[1m235/235\u001B[0m \u001B[32m━━━━━━━━━━━━━━━━━━━━\u001B[0m\u001B[37m\u001B[0m \u001B[1m3s\u001B[0m 14ms/step - loss: 0.1237 - val_loss: 0.1228\n",
      "Epoch 39/100\n",
      "\u001B[1m235/235\u001B[0m \u001B[32m━━━━━━━━━━━━━━━━━━━━\u001B[0m\u001B[37m\u001B[0m \u001B[1m6s\u001B[0m 15ms/step - loss: 0.1233 - val_loss: 0.1228\n",
      "Epoch 40/100\n",
      "\u001B[1m235/235\u001B[0m \u001B[32m━━━━━━━━━━━━━━━━━━━━\u001B[0m\u001B[37m\u001B[0m \u001B[1m4s\u001B[0m 18ms/step - loss: 0.1233 - val_loss: 0.1228\n",
      "Epoch 41/100\n",
      "\u001B[1m235/235\u001B[0m \u001B[32m━━━━━━━━━━━━━━━━━━━━\u001B[0m\u001B[37m\u001B[0m \u001B[1m4s\u001B[0m 19ms/step - loss: 0.1232 - val_loss: 0.1227\n",
      "Epoch 42/100\n",
      "\u001B[1m235/235\u001B[0m \u001B[32m━━━━━━━━━━━━━━━━━━━━\u001B[0m\u001B[37m\u001B[0m \u001B[1m5s\u001B[0m 19ms/step - loss: 0.1233 - val_loss: 0.1228\n",
      "Epoch 43/100\n",
      "\u001B[1m235/235\u001B[0m \u001B[32m━━━━━━━━━━━━━━━━━━━━\u001B[0m\u001B[37m\u001B[0m \u001B[1m5s\u001B[0m 20ms/step - loss: 0.1234 - val_loss: 0.1226\n",
      "Epoch 44/100\n",
      "\u001B[1m235/235\u001B[0m \u001B[32m━━━━━━━━━━━━━━━━━━━━\u001B[0m\u001B[37m\u001B[0m \u001B[1m5s\u001B[0m 22ms/step - loss: 0.1231 - val_loss: 0.1225\n",
      "Epoch 45/100\n",
      "\u001B[1m235/235\u001B[0m \u001B[32m━━━━━━━━━━━━━━━━━━━━\u001B[0m\u001B[37m\u001B[0m \u001B[1m4s\u001B[0m 16ms/step - loss: 0.1230 - val_loss: 0.1224\n",
      "Epoch 46/100\n",
      "\u001B[1m235/235\u001B[0m \u001B[32m━━━━━━━━━━━━━━━━━━━━\u001B[0m\u001B[37m\u001B[0m \u001B[1m4s\u001B[0m 16ms/step - loss: 0.1229 - val_loss: 0.1225\n",
      "Epoch 47/100\n",
      "\u001B[1m235/235\u001B[0m \u001B[32m━━━━━━━━━━━━━━━━━━━━\u001B[0m\u001B[37m\u001B[0m \u001B[1m5s\u001B[0m 14ms/step - loss: 0.1232 - val_loss: 0.1225\n",
      "Epoch 48/100\n",
      "\u001B[1m235/235\u001B[0m \u001B[32m━━━━━━━━━━━━━━━━━━━━\u001B[0m\u001B[37m\u001B[0m \u001B[1m3s\u001B[0m 14ms/step - loss: 0.1230 - val_loss: 0.1226\n",
      "Epoch 49/100\n",
      "\u001B[1m235/235\u001B[0m \u001B[32m━━━━━━━━━━━━━━━━━━━━\u001B[0m\u001B[37m\u001B[0m \u001B[1m4s\u001B[0m 15ms/step - loss: 0.1225 - val_loss: 0.1224\n",
      "Epoch 50/100\n",
      "\u001B[1m235/235\u001B[0m \u001B[32m━━━━━━━━━━━━━━━━━━━━\u001B[0m\u001B[37m\u001B[0m \u001B[1m4s\u001B[0m 18ms/step - loss: 0.1229 - val_loss: 0.1223\n",
      "Epoch 51/100\n",
      "\u001B[1m235/235\u001B[0m \u001B[32m━━━━━━━━━━━━━━━━━━━━\u001B[0m\u001B[37m\u001B[0m \u001B[1m4s\u001B[0m 15ms/step - loss: 0.1231 - val_loss: 0.1223\n",
      "Epoch 52/100\n",
      "\u001B[1m235/235\u001B[0m \u001B[32m━━━━━━━━━━━━━━━━━━━━\u001B[0m\u001B[37m\u001B[0m \u001B[1m4s\u001B[0m 16ms/step - loss: 0.1230 - val_loss: 0.1225\n",
      "Epoch 53/100\n",
      "\u001B[1m235/235\u001B[0m \u001B[32m━━━━━━━━━━━━━━━━━━━━\u001B[0m\u001B[37m\u001B[0m \u001B[1m4s\u001B[0m 18ms/step - loss: 0.1227 - val_loss: 0.1224\n",
      "Epoch 54/100\n",
      "\u001B[1m235/235\u001B[0m \u001B[32m━━━━━━━━━━━━━━━━━━━━\u001B[0m\u001B[37m\u001B[0m \u001B[1m5s\u001B[0m 17ms/step - loss: 0.1227 - val_loss: 0.1222\n",
      "Epoch 55/100\n",
      "\u001B[1m235/235\u001B[0m \u001B[32m━━━━━━━━━━━━━━━━━━━━\u001B[0m\u001B[37m\u001B[0m \u001B[1m5s\u001B[0m 15ms/step - loss: 0.1227 - val_loss: 0.1223\n",
      "Epoch 56/100\n",
      "\u001B[1m235/235\u001B[0m \u001B[32m━━━━━━━━━━━━━━━━━━━━\u001B[0m\u001B[37m\u001B[0m \u001B[1m5s\u001B[0m 20ms/step - loss: 0.1227 - val_loss: 0.1222\n",
      "Epoch 57/100\n",
      "\u001B[1m235/235\u001B[0m \u001B[32m━━━━━━━━━━━━━━━━━━━━\u001B[0m\u001B[37m\u001B[0m \u001B[1m4s\u001B[0m 16ms/step - loss: 0.1229 - val_loss: 0.1222\n",
      "Epoch 58/100\n",
      "\u001B[1m235/235\u001B[0m \u001B[32m━━━━━━━━━━━━━━━━━━━━\u001B[0m\u001B[37m\u001B[0m \u001B[1m6s\u001B[0m 18ms/step - loss: 0.1231 - val_loss: 0.1222\n",
      "Epoch 59/100\n",
      "\u001B[1m235/235\u001B[0m \u001B[32m━━━━━━━━━━━━━━━━━━━━\u001B[0m\u001B[37m\u001B[0m \u001B[1m4s\u001B[0m 15ms/step - loss: 0.1229 - val_loss: 0.1222\n",
      "Epoch 60/100\n",
      "\u001B[1m235/235\u001B[0m \u001B[32m━━━━━━━━━━━━━━━━━━━━\u001B[0m\u001B[37m\u001B[0m \u001B[1m3s\u001B[0m 14ms/step - loss: 0.1229 - val_loss: 0.1221\n",
      "Epoch 61/100\n",
      "\u001B[1m235/235\u001B[0m \u001B[32m━━━━━━━━━━━━━━━━━━━━\u001B[0m\u001B[37m\u001B[0m \u001B[1m3s\u001B[0m 14ms/step - loss: 0.1228 - val_loss: 0.1221\n",
      "Epoch 62/100\n",
      "\u001B[1m235/235\u001B[0m \u001B[32m━━━━━━━━━━━━━━━━━━━━\u001B[0m\u001B[37m\u001B[0m \u001B[1m6s\u001B[0m 16ms/step - loss: 0.1229 - val_loss: 0.1224\n",
      "Epoch 63/100\n",
      "\u001B[1m235/235\u001B[0m \u001B[32m━━━━━━━━━━━━━━━━━━━━\u001B[0m\u001B[37m\u001B[0m \u001B[1m4s\u001B[0m 15ms/step - loss: 0.1228 - val_loss: 0.1220\n",
      "Epoch 64/100\n",
      "\u001B[1m235/235\u001B[0m \u001B[32m━━━━━━━━━━━━━━━━━━━━\u001B[0m\u001B[37m\u001B[0m \u001B[1m4s\u001B[0m 17ms/step - loss: 0.1227 - val_loss: 0.1221\n",
      "Epoch 65/100\n",
      "\u001B[1m235/235\u001B[0m \u001B[32m━━━━━━━━━━━━━━━━━━━━\u001B[0m\u001B[37m\u001B[0m \u001B[1m5s\u001B[0m 15ms/step - loss: 0.1229 - val_loss: 0.1221\n",
      "Epoch 66/100\n",
      "\u001B[1m235/235\u001B[0m \u001B[32m━━━━━━━━━━━━━━━━━━━━\u001B[0m\u001B[37m\u001B[0m \u001B[1m4s\u001B[0m 15ms/step - loss: 0.1226 - val_loss: 0.1221\n",
      "Epoch 67/100\n",
      "\u001B[1m235/235\u001B[0m \u001B[32m━━━━━━━━━━━━━━━━━━━━\u001B[0m\u001B[37m\u001B[0m \u001B[1m5s\u001B[0m 20ms/step - loss: 0.1224 - val_loss: 0.1220\n",
      "Epoch 68/100\n",
      "\u001B[1m235/235\u001B[0m \u001B[32m━━━━━━━━━━━━━━━━━━━━\u001B[0m\u001B[37m\u001B[0m \u001B[1m5s\u001B[0m 20ms/step - loss: 0.1229 - val_loss: 0.1222\n",
      "Epoch 69/100\n",
      "\u001B[1m235/235\u001B[0m \u001B[32m━━━━━━━━━━━━━━━━━━━━\u001B[0m\u001B[37m\u001B[0m \u001B[1m5s\u001B[0m 19ms/step - loss: 0.1226 - val_loss: 0.1221\n",
      "Epoch 70/100\n",
      "\u001B[1m235/235\u001B[0m \u001B[32m━━━━━━━━━━━━━━━━━━━━\u001B[0m\u001B[37m\u001B[0m \u001B[1m4s\u001B[0m 15ms/step - loss: 0.1230 - val_loss: 0.1221\n",
      "Epoch 71/100\n",
      "\u001B[1m235/235\u001B[0m \u001B[32m━━━━━━━━━━━━━━━━━━━━\u001B[0m\u001B[37m\u001B[0m \u001B[1m6s\u001B[0m 18ms/step - loss: 0.1225 - val_loss: 0.1220\n",
      "Epoch 72/100\n",
      "\u001B[1m235/235\u001B[0m \u001B[32m━━━━━━━━━━━━━━━━━━━━\u001B[0m\u001B[37m\u001B[0m \u001B[1m5s\u001B[0m 21ms/step - loss: 0.1227 - val_loss: 0.1221\n",
      "Epoch 73/100\n",
      "\u001B[1m235/235\u001B[0m \u001B[32m━━━━━━━━━━━━━━━━━━━━\u001B[0m\u001B[37m\u001B[0m \u001B[1m5s\u001B[0m 21ms/step - loss: 0.1227 - val_loss: 0.1222\n",
      "Epoch 74/100\n",
      "\u001B[1m235/235\u001B[0m \u001B[32m━━━━━━━━━━━━━━━━━━━━\u001B[0m\u001B[37m\u001B[0m \u001B[1m5s\u001B[0m 21ms/step - loss: 0.1229 - val_loss: 0.1221\n",
      "Epoch 75/100\n",
      "\u001B[1m235/235\u001B[0m \u001B[32m━━━━━━━━━━━━━━━━━━━━\u001B[0m\u001B[37m\u001B[0m \u001B[1m4s\u001B[0m 15ms/step - loss: 0.1226 - val_loss: 0.1222\n",
      "Epoch 76/100\n",
      "\u001B[1m235/235\u001B[0m \u001B[32m━━━━━━━━━━━━━━━━━━━━\u001B[0m\u001B[37m\u001B[0m \u001B[1m5s\u001B[0m 20ms/step - loss: 0.1228 - val_loss: 0.1220\n",
      "Epoch 77/100\n",
      "\u001B[1m235/235\u001B[0m \u001B[32m━━━━━━━━━━━━━━━━━━━━\u001B[0m\u001B[37m\u001B[0m \u001B[1m4s\u001B[0m 19ms/step - loss: 0.1226 - val_loss: 0.1222\n",
      "Epoch 78/100\n",
      "\u001B[1m235/235\u001B[0m \u001B[32m━━━━━━━━━━━━━━━━━━━━\u001B[0m\u001B[37m\u001B[0m \u001B[1m5s\u001B[0m 19ms/step - loss: 0.1223 - val_loss: 0.1220\n",
      "Epoch 79/100\n",
      "\u001B[1m235/235\u001B[0m \u001B[32m━━━━━━━━━━━━━━━━━━━━\u001B[0m\u001B[37m\u001B[0m \u001B[1m4s\u001B[0m 18ms/step - loss: 0.1224 - val_loss: 0.1220\n",
      "Epoch 80/100\n",
      "\u001B[1m235/235\u001B[0m \u001B[32m━━━━━━━━━━━━━━━━━━━━\u001B[0m\u001B[37m\u001B[0m \u001B[1m5s\u001B[0m 21ms/step - loss: 0.1224 - val_loss: 0.1220\n",
      "Epoch 81/100\n",
      "\u001B[1m235/235\u001B[0m \u001B[32m━━━━━━━━━━━━━━━━━━━━\u001B[0m\u001B[37m\u001B[0m \u001B[1m4s\u001B[0m 18ms/step - loss: 0.1226 - val_loss: 0.1219\n",
      "Epoch 82/100\n",
      "\u001B[1m235/235\u001B[0m \u001B[32m━━━━━━━━━━━━━━━━━━━━\u001B[0m\u001B[37m\u001B[0m \u001B[1m4s\u001B[0m 16ms/step - loss: 0.1226 - val_loss: 0.1220\n",
      "Epoch 83/100\n",
      "\u001B[1m235/235\u001B[0m \u001B[32m━━━━━━━━━━━━━━━━━━━━\u001B[0m\u001B[37m\u001B[0m \u001B[1m4s\u001B[0m 16ms/step - loss: 0.1227 - val_loss: 0.1220\n",
      "Epoch 84/100\n",
      "\u001B[1m235/235\u001B[0m \u001B[32m━━━━━━━━━━━━━━━━━━━━\u001B[0m\u001B[37m\u001B[0m \u001B[1m5s\u001B[0m 20ms/step - loss: 0.1229 - val_loss: 0.1221\n",
      "Epoch 85/100\n",
      "\u001B[1m235/235\u001B[0m \u001B[32m━━━━━━━━━━━━━━━━━━━━\u001B[0m\u001B[37m\u001B[0m \u001B[1m4s\u001B[0m 16ms/step - loss: 0.1228 - val_loss: 0.1220\n",
      "Epoch 86/100\n",
      "\u001B[1m235/235\u001B[0m \u001B[32m━━━━━━━━━━━━━━━━━━━━\u001B[0m\u001B[37m\u001B[0m \u001B[1m5s\u001B[0m 17ms/step - loss: 0.1225 - val_loss: 0.1220\n",
      "Epoch 87/100\n",
      "\u001B[1m235/235\u001B[0m \u001B[32m━━━━━━━━━━━━━━━━━━━━\u001B[0m\u001B[37m\u001B[0m \u001B[1m4s\u001B[0m 18ms/step - loss: 0.1226 - val_loss: 0.1220\n",
      "Epoch 88/100\n",
      "\u001B[1m235/235\u001B[0m \u001B[32m━━━━━━━━━━━━━━━━━━━━\u001B[0m\u001B[37m\u001B[0m \u001B[1m4s\u001B[0m 16ms/step - loss: 0.1226 - val_loss: 0.1220\n",
      "Epoch 89/100\n",
      "\u001B[1m235/235\u001B[0m \u001B[32m━━━━━━━━━━━━━━━━━━━━\u001B[0m\u001B[37m\u001B[0m \u001B[1m4s\u001B[0m 17ms/step - loss: 0.1224 - val_loss: 0.1220\n",
      "Epoch 90/100\n",
      "\u001B[1m235/235\u001B[0m \u001B[32m━━━━━━━━━━━━━━━━━━━━\u001B[0m\u001B[37m\u001B[0m \u001B[1m6s\u001B[0m 19ms/step - loss: 0.1225 - val_loss: 0.1219\n",
      "Epoch 91/100\n",
      "\u001B[1m235/235\u001B[0m \u001B[32m━━━━━━━━━━━━━━━━━━━━\u001B[0m\u001B[37m\u001B[0m \u001B[1m5s\u001B[0m 20ms/step - loss: 0.1224 - val_loss: 0.1219\n",
      "Epoch 92/100\n",
      "\u001B[1m235/235\u001B[0m \u001B[32m━━━━━━━━━━━━━━━━━━━━\u001B[0m\u001B[37m\u001B[0m \u001B[1m6s\u001B[0m 23ms/step - loss: 0.1223 - val_loss: 0.1220\n",
      "Epoch 93/100\n",
      "\u001B[1m235/235\u001B[0m \u001B[32m━━━━━━━━━━━━━━━━━━━━\u001B[0m\u001B[37m\u001B[0m \u001B[1m4s\u001B[0m 18ms/step - loss: 0.1224 - val_loss: 0.1220\n",
      "Epoch 94/100\n",
      "\u001B[1m235/235\u001B[0m \u001B[32m━━━━━━━━━━━━━━━━━━━━\u001B[0m\u001B[37m\u001B[0m \u001B[1m5s\u001B[0m 15ms/step - loss: 0.1227 - val_loss: 0.1221\n",
      "Epoch 95/100\n",
      "\u001B[1m235/235\u001B[0m \u001B[32m━━━━━━━━━━━━━━━━━━━━\u001B[0m\u001B[37m\u001B[0m \u001B[1m6s\u001B[0m 20ms/step - loss: 0.1227 - val_loss: 0.1220\n",
      "Epoch 96/100\n",
      "\u001B[1m235/235\u001B[0m \u001B[32m━━━━━━━━━━━━━━━━━━━━\u001B[0m\u001B[37m\u001B[0m \u001B[1m4s\u001B[0m 15ms/step - loss: 0.1229 - val_loss: 0.1219\n",
      "Epoch 97/100\n",
      "\u001B[1m235/235\u001B[0m \u001B[32m━━━━━━━━━━━━━━━━━━━━\u001B[0m\u001B[37m\u001B[0m \u001B[1m5s\u001B[0m 19ms/step - loss: 0.1225 - val_loss: 0.1219\n",
      "Epoch 98/100\n",
      "\u001B[1m235/235\u001B[0m \u001B[32m━━━━━━━━━━━━━━━━━━━━\u001B[0m\u001B[37m\u001B[0m \u001B[1m5s\u001B[0m 16ms/step - loss: 0.1226 - val_loss: 0.1220\n",
      "Epoch 99/100\n",
      "\u001B[1m235/235\u001B[0m \u001B[32m━━━━━━━━━━━━━━━━━━━━\u001B[0m\u001B[37m\u001B[0m \u001B[1m4s\u001B[0m 18ms/step - loss: 0.1225 - val_loss: 0.1221\n",
      "Epoch 100/100\n",
      "\u001B[1m235/235\u001B[0m \u001B[32m━━━━━━━━━━━━━━━━━━━━\u001B[0m\u001B[37m\u001B[0m \u001B[1m4s\u001B[0m 16ms/step - loss: 0.1225 - val_loss: 0.1220\n"
     ]
    },
    {
     "data": {
      "text/plain": [
       "<keras.src.callbacks.history.History at 0x27be447b260>"
      ]
     },
     "execution_count": 37,
     "metadata": {},
     "output_type": "execute_result"
    }
   ],
   "execution_count": 37
  },
  {
   "metadata": {
    "ExecuteTime": {
     "end_time": "2025-05-12T18:10:20.826945Z",
     "start_time": "2025-05-12T18:10:20.632162Z"
    }
   },
   "cell_type": "code",
   "source": [
    "idx = np.random.randint(X_test.shape[0])\n",
    "original_image = X_test[idx]\n",
    "\n",
    "noise_image = original_image + 0.5 * np.random.normal(loc=0.0, scale=1.0, size=original_image.shape)\n",
    "noise_image = np.clip(noise_image, 0.0, 1.0)\n",
    "\n",
    "denoised_image = autoencoder.predict(np.expand_dims(noise_image, axis=0))\n",
    "denoised_image = denoised_image.reshape((28,28))"
   ],
   "id": "fb66ed05d33fdb0",
   "outputs": [
    {
     "name": "stdout",
     "output_type": "stream",
     "text": [
      "\u001B[1m1/1\u001B[0m \u001B[32m━━━━━━━━━━━━━━━━━━━━\u001B[0m\u001B[37m\u001B[0m \u001B[1m0s\u001B[0m 84ms/step\n"
     ]
    }
   ],
   "execution_count": 48
  },
  {
   "metadata": {
    "ExecuteTime": {
     "end_time": "2025-05-12T18:10:25.905768Z",
     "start_time": "2025-05-12T18:10:25.547169Z"
    }
   },
   "cell_type": "code",
   "source": [
    "fig, axes = plt.subplots(nrows=3, ncols=1, figsize=(10, 4), tight_layout=True)\n",
    "\n",
    "axes[0].imshow(original_image.reshape(28, 28), cmap='gray')\n",
    "axes[0].set_title('Imagem Original')\n",
    "axes[0].axis('off')\n",
    "\n",
    "axes[1].imshow(noise_image.reshape(28, 28), cmap='gray')\n",
    "axes[1].set_title('Imagem com Ruído')\n",
    "axes[1].axis('off')\n",
    "\n",
    "axes[2].imshow(denoised_image, cmap='gray')\n",
    "axes[2].set_title('Imagem com Ruído Removido')\n",
    "axes[2].axis('off')\n",
    "\n",
    "plt.show()"
   ],
   "id": "ddd4d73e9778130f",
   "outputs": [
    {
     "data": {
      "text/plain": [
       "<Figure size 1000x400 with 3 Axes>"
      ],
      "image/png": "[encoded data removed]"
     },
     "metadata": {},
     "output_type": "display_data"
    }
   ],
   "execution_count": 49
  }
 ],
 "metadata": {
  "kernelspec": {
   "display_name": "Python 3",
   "language": "python",
   "name": "python3"
  },
  "language_info": {
   "codemirror_mode": {
    "name": "ipython",
    "version": 2
   },
   "file_extension": ".py",
   "mimetype": "text/x-python",
   "name": "python",
   "nbconvert_exporter": "python",
   "pygments_lexer": "ipython2",
   "version": "2.7.6"
  }
 },
 "nbformat": 4,
 "nbformat_minor": 5
}
